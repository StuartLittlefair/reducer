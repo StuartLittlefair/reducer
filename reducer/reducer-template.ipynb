{
 "metadata": {
  "name": "",
  "signature": "sha256:27f006ae75714e50312ba81637437eef2b0bef2ff4df38ad1a0081284ad4c6ef"
 },
 "nbformat": 3,
 "nbformat_minor": 0,
 "worksheets": [
  {
   "cells": [
    {
     "cell_type": "heading",
     "level": 1,
     "metadata": {},
     "source": [
      "IPython notebook crash course"
     ]
    },
    {
     "cell_type": "markdown",
     "metadata": {},
     "source": [
      "Click on a code cell (has grey background) then press Shift-Enter (at the same time) to run a code cell. That will add the controls (buttons, etc) you use to do the reduction one-by-one; then use them for reduction."
     ]
    },
    {
     "cell_type": "code",
     "collapsed": false,
     "input": [
      "from __future__ import division\n",
      "\n",
      "%matplotlib inline\n",
      "\n",
      "from IPython.html import widgets\n",
      "from IPython.display import display\n",
      "\n",
      "import numpy as np\n",
      "\n",
      "import reducer.gui\n",
      "import reducer.controller\n",
      "# import ccdproc\n",
      "# import photutils\n",
      "# from astropy import units as u\n",
      "import msumastro"
     ],
     "language": "python",
     "metadata": {},
     "outputs": []
    },
    {
     "cell_type": "heading",
     "level": 1,
     "metadata": {},
     "source": [
      "To try this notebook without downloading data..."
     ]
    },
    {
     "cell_type": "markdown",
     "metadata": {},
     "source": [
      "...leave this line uncommented."
     ]
    },
    {
     "cell_type": "code",
     "collapsed": false,
     "input": [
      "import os\n",
      "image_meta = os.path.join(reducer.notebook_dir.get_data_path(), 'image_metadata.csv')\n",
      "data_dir = None"
     ],
     "language": "python",
     "metadata": {},
     "outputs": []
    },
    {
     "cell_type": "markdown",
     "metadata": {},
     "source": [
      "# Enter name of directory that contains your data:"
     ]
    },
    {
     "cell_type": "markdown",
     "metadata": {},
     "source": [
      "**FIRST** uncomment the line below:\n",
      "\n",
      "+ click on the cell below\n",
      "+ delete the ``#``\n",
      "+ Push ``Shift-Enter`` to run the cell"
     ]
    },
    {
     "cell_type": "code",
     "collapsed": false,
     "input": [
      "data_dir = '/Users/mcraig/Documents/Research/SA112-SF1/2013-07-03-r-only'\n",
      "image_meta = None"
     ],
     "language": "python",
     "metadata": {},
     "outputs": []
    },
    {
     "cell_type": "markdown",
     "metadata": {},
     "source": [
      "## Type any comments about this dataset here\n",
      "\n",
      "Double-click on the cell to start editing it."
     ]
    },
    {
     "cell_type": "heading",
     "level": 1,
     "metadata": {},
     "source": [
      "Load your data set"
     ]
    },
    {
     "cell_type": "code",
     "collapsed": false,
     "input": [
      "load_container = reducer.gui.LoadContainer()\n",
      "load_container.button.description = 'Load image info'\n",
      "\n",
      "# The function definition below ties the button click to the \n",
      "# variable that contains the image metadata.\n",
      "def on_click(b):\n",
      "    load_container.start_progress()\n",
      "    if data_dir:\n",
      "        load_container.images = msumastro.ImageFileCollection(location=data_dir, keywords='*')\n",
      "    elif image_meta:\n",
      "        load_container.images = msumastro.ImageFileCollection(info_file=image_meta)\n",
      "    load_container.end_progress()\n",
      "\n",
      "load_container.button.on_click(on_click)\n",
      "load_container.display()"
     ],
     "language": "python",
     "metadata": {},
     "outputs": []
    },
    {
     "cell_type": "code",
     "collapsed": false,
     "input": [
      "images = load_container.images\n",
      "tt = msumastro.TableTree(images.summary_info, ['imagetyp', 'exposure'], 'file')"
     ],
     "language": "python",
     "metadata": {},
     "outputs": []
    },
    {
     "cell_type": "markdown",
     "metadata": {},
     "source": [
      "# Image Summary\n",
      "\n",
      "## Includes browser and image/metadata viewer"
     ]
    },
    {
     "cell_type": "code",
     "collapsed": false,
     "input": [
      "fits_browser = reducer.gui.ImageBrowserWidget(tt, demo=False, directory=data_dir)\n",
      "fits_browser.display()\n",
      "fits_browser.set_css('padding', '10px')"
     ],
     "language": "python",
     "metadata": {},
     "outputs": []
    },
    {
     "cell_type": "markdown",
     "metadata": {},
     "source": [
      "# More fun with option 3\n",
      "\n",
      "By passing different keys into the tree constructor you can generate a navigable tree based on any keys you want."
     ]
    },
    {
     "cell_type": "code",
     "collapsed": false,
     "input": [
      "tt2 = msumastro.TableTree(images.summary_info, ['filter', 'imagetyp', 'exposure'], 'file')\n",
      "im_a_tree_too = reducer.gui.ImageBrowserWidget(tt2)\n",
      "im_a_tree_too.display()"
     ],
     "language": "python",
     "metadata": {},
     "outputs": []
    },
    {
     "cell_type": "heading",
     "level": 1,
     "metadata": {},
     "source": [
      "Make a master bias image"
     ]
    },
    {
     "cell_type": "heading",
     "level": 2,
     "metadata": {},
     "source": [
      "Reduce the bias images"
     ]
    },
    {
     "cell_type": "code",
     "collapsed": false,
     "input": [
      "bias_reduction = reducer.controller.ReductionSettings(description='Reduce bias frames',\n",
      "                                                      toggle_type='button',\n",
      "                                                      allow_bias=False,\n",
      "                                                      allow_dark=False,\n",
      "                                                      allow_flat=False,\n",
      "                                                      image_collection=images,\n",
      "                                                      apply_to={'imagetyp': 'bias'})\n",
      "bias_reduction.display()"
     ],
     "language": "python",
     "metadata": {},
     "outputs": []
    },
    {
     "cell_type": "code",
     "collapsed": false,
     "input": [
      "bias_settings = reducer.controller.CombinerWidget(description=\"Master Bias Settings\", toggle_type='button')\n",
      "bias_settings.images = bias_reduction.reduced_images\n",
      "bias_settings.display()"
     ],
     "language": "python",
     "metadata": {},
     "outputs": []
    },
    {
     "cell_type": "heading",
     "level": 1,
     "metadata": {},
     "source": [
      "Make a master dark"
     ]
    },
    {
     "cell_type": "code",
     "collapsed": false,
     "input": [
      "dark_reduction = reducer.controller.ReductionSettings(description='Reduce dark frames',\n",
      "                                                      toggle_type='button',\n",
      "                                                      allow_bias=True,\n",
      "                                                      bias_image=bias_settings.combined,\n",
      "                                                      allow_dark=False,\n",
      "                                                      allow_flat=False,\n",
      "                                                      image_collection=images,\n",
      "                                                      apply_to={'imagetyp': 'dark'})\n",
      "\n",
      "dark_reduction.display()"
     ],
     "language": "python",
     "metadata": {},
     "outputs": []
    },
    {
     "cell_type": "code",
     "collapsed": false,
     "input": [
      "dark = reducer.controller.CombinerWidget(description=\"Make Master Dark\",\n",
      "                                         toggle_type='button',\n",
      "                                         group_by='exposure')\n",
      "dark.images = dark_reduction.reduced_images\n",
      "dark.display()"
     ],
     "language": "python",
     "metadata": {},
     "outputs": []
    },
    {
     "cell_type": "markdown",
     "metadata": {},
     "source": [
      "## Settings for creating calibration frames \n",
      "\n",
      "This first set of buttons allows you to choose your settings."
     ]
    },
    {
     "cell_type": "code",
     "collapsed": false,
     "input": [
      "dark_settings = reducer.controller.CombinerWidget(description=\"Dark Combination Settings\",\n",
      "                                           toggle_type='button',\n",
      "                                           group_by='exposure')\n",
      "dark_settings.display()\n",
      "\n",
      "frobulate_settings = reducer.controller.CombinerWidget(description=\"Master Frobulator Settings\", toggle_type='button')\n",
      "frobulate_settings.display()"
     ],
     "language": "python",
     "metadata": {},
     "outputs": []
    },
    {
     "cell_type": "markdown",
     "metadata": {},
     "source": [
      "## Reduce the science images"
     ]
    },
    {
     "cell_type": "code",
     "collapsed": false,
     "input": [
      "reduce_region = reducer.controller.ReductionSettings(description=\"Reduce my data\",\n",
      "                                                     toggle_type=\"button\",\n",
      "                                                     allow_bias=True, allow_dark=True, allow_flat=True)\n",
      "reduce_region.display()"
     ],
     "language": "python",
     "metadata": {},
     "outputs": []
    },
    {
     "cell_type": "markdown",
     "metadata": {},
     "source": [
      "## Maybe a display of some images here? Or just the option to? Or make a movie?"
     ]
    },
    {
     "cell_type": "code",
     "collapsed": false,
     "input": [
      "fake_images = [np.random.random(size=(100, 100)) for i in range(10)]\n",
      "biased = [i.data for i in bias_reduction._reduced_images]\n",
      "image_button = reducer.gui.ImageDisplayStuff(image_list=biased)\n",
      "image_button.display()"
     ],
     "language": "python",
     "metadata": {},
     "outputs": []
    },
    {
     "cell_type": "code",
     "collapsed": false,
     "input": [],
     "language": "python",
     "metadata": {},
     "outputs": []
    }
   ],
   "metadata": {}
  }
 ]
}