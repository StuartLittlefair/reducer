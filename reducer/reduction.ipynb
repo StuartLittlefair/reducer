{
 "metadata": {
  "name": "",
  "signature": "sha256:7398aa369e522ba51c3953a8f63c8f02399e833a89474f3112435b2543e9c312"
 },
 "nbformat": 3,
 "nbformat_minor": 0,
 "worksheets": [
  {
   "cells": [
    {
     "cell_type": "code",
     "collapsed": false,
     "input": [
      "from __future__ import division\n",
      "\n",
      "%matplotlib inline\n",
      "\n",
      "from IPython.html import widgets\n",
      "from IPython.display import display\n",
      "\n",
      "import numpy as np\n",
      "\n",
      "import gui\n",
      "# import ccdproc\n",
      "# import photutils\n",
      "# from astropy import units as u\n",
      "# import msumastro"
     ],
     "language": "python",
     "metadata": {},
     "outputs": []
    },
    {
     "cell_type": "markdown",
     "metadata": {},
     "source": [
      "# Enter name of directory that contains your data:"
     ]
    },
    {
     "cell_type": "code",
     "collapsed": false,
     "input": [
      "data_dir = 'put/your/data/directory/here'  # note -- this is ignored for now!"
     ],
     "language": "python",
     "metadata": {},
     "outputs": []
    },
    {
     "cell_type": "markdown",
     "metadata": {},
     "source": [
      "Type any of your comments/notes here, then..."
     ]
    },
    {
     "cell_type": "code",
     "collapsed": false,
     "input": [
      "load_container = gui.LoadContainer()\n",
      "display(load_container.load_container)"
     ],
     "language": "python",
     "metadata": {},
     "outputs": []
    },
    {
     "cell_type": "markdown",
     "metadata": {},
     "source": [
      "# Image summary"
     ]
    },
    {
     "cell_type": "code",
     "collapsed": true,
     "input": [
      "image_summary = gui.ImageSummary1()\n",
      "display(image_summary.image_summary)\n",
      "image_summary.set_tab_names()"
     ],
     "language": "python",
     "metadata": {},
     "outputs": []
    },
    {
     "cell_type": "markdown",
     "metadata": {},
     "source": [
      "## Now display a summay of the data -- top level is maybe the image types, with ability to drill down. Display number of files at each level.\n",
      "\n",
      "### Maybe a drop-down style filter instead?"
     ]
    },
    {
     "cell_type": "markdown",
     "metadata": {},
     "source": [
      "## Make some master frames, if needed. "
     ]
    },
    {
     "cell_type": "code",
     "collapsed": false,
     "input": [
      "mastery = gui.MakeMasterButtons()\n",
      "mastery.display()\n",
      "#mastery.layout()"
     ],
     "language": "python",
     "metadata": {},
     "outputs": []
    },
    {
     "cell_type": "markdown",
     "metadata": {},
     "source": [
      "## Ask what should be reduced. Demonstrate at least some small amount of sense in offering to do reductions.\n",
      "\n",
      "Well, eventually, maybe. Not today."
     ]
    },
    {
     "cell_type": "markdown",
     "metadata": {},
     "source": [
      "## Big ol' button here to start reducing"
     ]
    },
    {
     "cell_type": "code",
     "collapsed": false,
     "input": [
      "reduce_region = gui.ReduceContainer()\n",
      "reduce_region.display()"
     ],
     "language": "python",
     "metadata": {},
     "outputs": []
    },
    {
     "cell_type": "markdown",
     "metadata": {},
     "source": [
      "## Maybe a display of some images here? Or just the option to? Or make a movie?"
     ]
    },
    {
     "cell_type": "code",
     "collapsed": false,
     "input": [
      "images = [np.random.random(size=(100, 100)) for i in range(3)]\n",
      "image_button = gui.ImageDisplayStuff(image_list=images)\n",
      "image_button.display()"
     ],
     "language": "python",
     "metadata": {},
     "outputs": []
    },
    {
     "cell_type": "markdown",
     "metadata": {},
     "source": [
      "## Display an image for picking sources, or the option to read from a file, or the option to auto-detect"
     ]
    },
    {
     "cell_type": "markdown",
     "metadata": {},
     "source": [
      "## Produce the photometry"
     ]
    },
    {
     "cell_type": "code",
     "collapsed": false,
     "input": [],
     "language": "python",
     "metadata": {},
     "outputs": []
    }
   ],
   "metadata": {}
  }
 ]
}