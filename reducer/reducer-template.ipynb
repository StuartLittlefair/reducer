{
 "metadata": {
  "name": "",
  "signature": "sha256:0bd9ebae15dd5a194e1181cb93cb4991a40322da73a9ffef0968c41158c1df11"
 },
 "nbformat": 3,
 "nbformat_minor": 0,
 "worksheets": [
  {
   "cells": [
    {
     "cell_type": "heading",
     "level": 1,
     "metadata": {},
     "source": [
      "IPython notebook crash course"
     ]
    },
    {
     "cell_type": "markdown",
     "metadata": {},
     "source": [
      "Two options, take your pick (**OPTION 1 is better for prototyping**):\n",
      "\n",
      "1. Click on a code cell (has grey background) then press Shift-Enter (at the same time) to run a code cell. That will add the controls (buttons, etc) you use to do the reduction one-by-one; then use them for reduction.\n",
      "2. Choose ``Cell -> Run All`` from the menu above to run all of the code, then use the controls (buttons, etc) to do your reduction."
     ]
    },
    {
     "cell_type": "code",
     "collapsed": false,
     "input": [
      "from __future__ import division\n",
      "\n",
      "%matplotlib inline\n",
      "\n",
      "from IPython.html import widgets\n",
      "from IPython.display import display\n",
      "\n",
      "import numpy as np\n",
      "\n",
      "import reducer.gui\n",
      "# import ccdproc\n",
      "# import photutils\n",
      "# from astropy import units as u\n",
      "import msumastro"
     ],
     "language": "python",
     "metadata": {},
     "outputs": []
    },
    {
     "cell_type": "markdown",
     "metadata": {},
     "source": [
      "# Enter name of directory that contains your data:"
     ]
    },
    {
     "cell_type": "code",
     "collapsed": false,
     "input": [
      "data_dir = '/Users/mcraig/Documents/Research/SA112-SF1/2013-07-03-r-only'"
     ],
     "language": "python",
     "metadata": {},
     "outputs": []
    },
    {
     "cell_type": "markdown",
     "metadata": {},
     "source": [
      "## Type any comments about this dataset here\n",
      "\n",
      "Double-click on the cell to start editing it."
     ]
    },
    {
     "cell_type": "heading",
     "level": 1,
     "metadata": {},
     "source": [
      "Load your data set"
     ]
    },
    {
     "cell_type": "code",
     "collapsed": false,
     "input": [
      "load_container = reducer.gui.LoadContainer()\n",
      "load_container.button.description = 'Load image info'\n",
      "\n",
      "# The function definition below ties the button click to the \n",
      "# variable that contains the image metadata.\n",
      "def on_click(b):\n",
      "    load_container.start_progress()\n",
      "    load_container.images = msumastro.ImageFileCollection(location=data_dir, keywords='*')\n",
      "    load_container.end_progress()\n",
      "\n",
      "load_container.button.on_click(on_click)\n",
      "load_container.display()"
     ],
     "language": "python",
     "metadata": {},
     "outputs": []
    },
    {
     "cell_type": "heading",
     "level": 1,
     "metadata": {},
     "source": [
      "REMOVE CELL BELOW BEFORE COMMITTING!!!"
     ]
    },
    {
     "cell_type": "code",
     "collapsed": false,
     "input": [
      "#on_click(1)"
     ],
     "language": "python",
     "metadata": {},
     "outputs": []
    },
    {
     "cell_type": "code",
     "collapsed": false,
     "input": [
      "import os\n",
      "image_meta = os.path.join(reducer.notebook_dir.get_data_path(), 'image_metadata.csv')\n",
      "#images = msumastro.ImageFileCollection(info_file=image_meta)\n",
      "images = load_container.images\n",
      "tt = msumastro.TableTree(images.summary_info, ['imagetyp', 'exposure'], 'file')\n"
     ],
     "language": "python",
     "metadata": {},
     "outputs": []
    },
    {
     "cell_type": "markdown",
     "metadata": {},
     "source": [
      "# Several options for summarizing image information are below...\n",
      "\n",
      "...please take a look and [let me know](https://github.com/mwcraig/reducer/issues) which you like best."
     ]
    },
    {
     "cell_type": "markdown",
     "metadata": {},
     "source": [
      "# Image Summary\n",
      "\n",
      "## Includes browser and image/metadata viewer"
     ]
    },
    {
     "cell_type": "code",
     "collapsed": false,
     "input": [
      "fits_browser = reducer.gui.ImageBrowserWidget(tt)\n",
      "fits_browser.display()\n",
      "fits_browser.set_css('padding', '10px')"
     ],
     "language": "python",
     "metadata": {},
     "outputs": []
    },
    {
     "cell_type": "markdown",
     "metadata": {},
     "source": [
      "# More fun with option 3\n",
      "\n",
      "By passing different keys into the tree constructor you can generate a navigable tree based on any keys you want."
     ]
    },
    {
     "cell_type": "code",
     "collapsed": false,
     "input": [
      "tt2 = msumastro.TableTree(images.summary_info, ['filter', 'imagetyp', 'exposure'], 'file')\n",
      "im_a_tree_too = reducer.gui.ImageBrowserWidget(tt2)\n",
      "im_a_tree_too.display()"
     ],
     "language": "python",
     "metadata": {},
     "outputs": []
    },
    {
     "cell_type": "markdown",
     "metadata": {},
     "source": [
      "## Settings for creating calibration frames \n",
      "\n",
      "This first set of buttons allows you to choose your settings."
     ]
    },
    {
     "cell_type": "code",
     "collapsed": false,
     "input": [
      "bias_settings = reducer.gui.CombinerWidget(description=\"Master Bias Settings\", toggle_type='button')\n",
      "bias_settings.display()\n",
      "\n",
      "dark_settings = reducer.gui.CombinerWidget(description=\"Dark Combination Settings\", toggle_type='button')\n",
      "group_by = widgets.TextWidget(description='Group by:', value='exposure')\n",
      "dark_settings.add_child(group_by)\n",
      "dark_settings.display()\n",
      "\n",
      "frabulate_settings = reducer.gui.CombinerWidget(description=\"Master Frobulator Settings\", toggle_type='button')\n",
      "frabulate_settings.display()\n"
     ],
     "language": "python",
     "metadata": {},
     "outputs": []
    },
    {
     "cell_type": "heading",
     "level": 2,
     "metadata": {},
     "source": [
      "Make a calibration frame"
     ]
    },
    {
     "cell_type": "code",
     "collapsed": false,
     "input": [
      "dark_reduction = reducer.gui.ReductionSettings(description='Construct dark', toggle_type='button', allow_dark=False, allow_flat=False)\n",
      "dark_reduction.display()"
     ],
     "language": "python",
     "metadata": {},
     "outputs": []
    },
    {
     "cell_type": "markdown",
     "metadata": {},
     "source": [
      "## Reduce the science images"
     ]
    },
    {
     "cell_type": "code",
     "collapsed": false,
     "input": [
      "reduce_region = reducer.gui.ReduceContainer()\n",
      "reduce_region.display()"
     ],
     "language": "python",
     "metadata": {},
     "outputs": []
    },
    {
     "cell_type": "markdown",
     "metadata": {},
     "source": [
      "## Maybe a display of some images here? Or just the option to? Or make a movie?"
     ]
    },
    {
     "cell_type": "code",
     "collapsed": false,
     "input": [
      "fake_images = [np.random.random(size=(100, 100)) for i in range(10)]\n",
      "image_button = reducer.gui.ImageDisplayStuff(image_list=fake_images)\n",
      "image_button.display()"
     ],
     "language": "python",
     "metadata": {},
     "outputs": []
    }
   ],
   "metadata": {}
  }
 ]
}