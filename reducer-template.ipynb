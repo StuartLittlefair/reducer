{
 "metadata": {
  "name": "",
  "signature": "sha256:e46236facbb7bd1f5c4c591c40d14edce4f00c07f4595ea8cdd71e8271da662b"
 },
 "nbformat": 3,
 "nbformat_minor": 0,
 "worksheets": [
  {
   "cells": [
    {
     "cell_type": "code",
     "collapsed": false,
     "input": [
      "from __future__ import division\n",
      "from IPython.html import widgets\n",
      "from IPython.display import display\n",
      "\n",
      "# import ccdproc\n",
      "# import photutils\n",
      "# from astropy import units as u\n",
      "# import msumastro"
     ],
     "language": "python",
     "metadata": {},
     "outputs": []
    },
    {
     "cell_type": "markdown",
     "metadata": {},
     "source": [
      "# Enter name of directory that contains your data:"
     ]
    },
    {
     "cell_type": "code",
     "collapsed": false,
     "input": [
      "data_dir = 'put/your/data/directory/here'  # note -- this is ignored for now!"
     ],
     "language": "python",
     "metadata": {},
     "outputs": []
    },
    {
     "cell_type": "markdown",
     "metadata": {},
     "source": [
      "Type any of your comments/notes here, then..."
     ]
    },
    {
     "cell_type": "code",
     "collapsed": false,
     "input": [
      "load_container = widgets.ContainerWidget(description=\"Hold widgets related to loading file info\")\n",
      "start_processing = widgets.ButtonWidget(description=\"Load image info\")\n",
      "\n",
      "load_progress = widgets.FloatProgressWidget(min=0, max=1, step=0.01, value=0,\n",
      "                                            description=\"Loading\", visible=False)\n",
      "\n",
      "status_label = widgets.LatexWidget(visible=False)\n",
      "\n",
      "def load_image_click(b):\n",
      "    \"\"\"\n",
      "    I am an awful function. I rely on load_progress being already defined\n",
      "    outside my scope.\n",
      "    \n",
      "    If the person who wrote me was virtous I would be a method on a custom\n",
      "    widget class. Obviously, he is not...\n",
      "    \"\"\"\n",
      "    import time\n",
      "    \n",
      "    load_progress.visible = True\n",
      "    sleep_for = 0.001\n",
      "    max_i = 2000\n",
      "    for i in range(max_i):\n",
      "        load_progress.value = i/max_i\n",
      "        time.sleep(sleep_for)\n",
      "    load_progress.visible = False\n",
      "    status_label.value = \"Done loading\"\n",
      "    status_label.add_class(\"alert\")\n",
      "    status_label.add_class(\"alert-success\")\n",
      "    status_label.visible = True\n",
      "    time.sleep(1)\n",
      "    status_label.visible = False\n",
      "\n",
      "\n",
      "load_container.children = [start_processing, load_progress, status_label]\n",
      "start_processing.on_click(load_image_click)\n",
      "load_container"
     ],
     "language": "python",
     "metadata": {},
     "outputs": []
    },
    {
     "cell_type": "markdown",
     "metadata": {},
     "source": [
      "# Image summary"
     ]
    },
    {
     "cell_type": "code",
     "collapsed": false,
     "input": [
      "image_summary = widgets.TabWidget(description=\"Summary container\")\n",
      "image_types = [\"Bias\", \"Dark\", \"Flat\", \"Light\"]\n",
      "image_type_buttons = [widgets.TextareaWidget(description=t, value=\"Nice long list of images\") for t in image_types]\n",
      "image_summary.children = image_type_buttons\n",
      "display(image_summary)\n",
      "for index, name in enumerate(image_types):\n",
      "    image_summary.set_title(index, name)"
     ],
     "language": "python",
     "metadata": {},
     "outputs": []
    },
    {
     "cell_type": "markdown",
     "metadata": {},
     "source": [
      "## Now display a summay of the data -- top level is maybe the image types, with ability to drill down. Display number of files at each level.\n",
      "\n",
      "### Maybe a drop-down style filter instead?"
     ]
    },
    {
     "cell_type": "markdown",
     "metadata": {},
     "source": [
      "## Make some master frames, if needed. "
     ]
    },
    {
     "cell_type": "code",
     "collapsed": false,
     "input": [
      "calibration_types = [\"Bias\", \"Dark\", \"Flat\"]\n",
      "buttons = [widgets.ButtonWidget(description=\"Make Master {0}\".format(c)) for c in calibration_types]\n",
      "big_container = widgets.ContainerWidget()\n",
      "status_message = widgets.FloatProgressWidget(visible=False, min=0, max=1, value=1)\n",
      "calib_container = widgets.ContainerWidget()\n",
      "calib_container.children = buttons\n",
      "\n",
      "big_container.children = [calib_container, status_message]\n",
      "\n",
      "display(big_container)\n",
      "calib_container.remove_class('vbox')\n",
      "calib_container.add_class('hbox')\n",
      "\n",
      "for button in buttons:\n",
      "    button.add_class('btn-warning')\n",
      "\n",
      "def change_my_color(b):\n",
      "    status_message.description = \"Processing...\"\n",
      "    status_message.remove_class(\"progress-success\")\n",
      "    status_message.add_class([\"progress\", \"progress-striped\", \"active\"])\n",
      "    status_message.visible = True\n",
      "    import time; time.sleep(3)\n",
      "    status_message.description = \"Done!\"\n",
      "    status_message.remove_class([\"progress-striped\", \"active\"])\n",
      "    status_message.add_class(\"progress-success\")\n",
      "    b.add_class('btn-success')\n",
      "    b.description = \"Made \" + b.description[5:]\n",
      "    time.sleep(2)\n",
      "    status_message.visible = False\n",
      "\n",
      "for button in buttons:\n",
      "    button.on_click(change_my_color)"
     ],
     "language": "python",
     "metadata": {},
     "outputs": []
    },
    {
     "cell_type": "markdown",
     "metadata": {},
     "source": [
      "## Ask what should be reduced. Demonstrate at least some small amount of sense in offering to do reductions.\n",
      "\n",
      "Well, eventually, maybe. Not today."
     ]
    },
    {
     "cell_type": "markdown",
     "metadata": {},
     "source": [
      "## Big ol' button here to start reducing"
     ]
    },
    {
     "cell_type": "code",
     "collapsed": false,
     "input": [
      "reduce_button = widgets.ButtonWidget(description=\"Reduce my data!\")\n",
      "magic_image = widgets.ContainerWidget(visible=False)\n",
      "\n",
      "def reduce_data(b):\n",
      "    import time\n",
      "    original_description = b.description\n",
      "    b.description = \"Just kidding\"\n",
      "    time.sleep(1)\n",
      "    b.description = original_description\n",
      "    magic_image.visible = True\n",
      "\n",
      "reduce_button.on_click(reduce_data)\n",
      "display(reduce_button)\n",
      "reduce_button.add_class(\"btn-block\")"
     ],
     "language": "python",
     "metadata": {},
     "outputs": []
    },
    {
     "cell_type": "markdown",
     "metadata": {},
     "source": [
      "## Maybe a display of some images here? Or just the option to? Or make a movie?"
     ]
    },
    {
     "cell_type": "code",
     "collapsed": false,
     "input": [
      "label = widgets.LatexWidget(value=\"YOUR IMAGE HERE!!!\")\n",
      "magic_image.children = [label]\n",
      "display(magic_image)"
     ],
     "language": "python",
     "metadata": {},
     "outputs": []
    },
    {
     "cell_type": "markdown",
     "metadata": {},
     "source": [
      "## Display an image for picking sources, or the option to read from a file, or the option to auto-detect"
     ]
    },
    {
     "cell_type": "markdown",
     "metadata": {},
     "source": [
      "## Produce the photometry"
     ]
    },
    {
     "cell_type": "code",
     "collapsed": false,
     "input": [],
     "language": "python",
     "metadata": {},
     "outputs": []
    }
   ],
   "metadata": {}
  }
 ]
}