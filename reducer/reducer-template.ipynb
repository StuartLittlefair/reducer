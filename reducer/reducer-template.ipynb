{
 "metadata": {
  "name": "",
  "signature": "sha256:cbc9cd4075c43fe0697a10051038a036ccdae5eb694a41fffce0932c3ef190b7"
 },
 "nbformat": 3,
 "nbformat_minor": 0,
 "worksheets": [
  {
   "cells": [
    {
     "cell_type": "heading",
     "level": 1,
     "metadata": {},
     "source": [
      "IPython notebook crash course"
     ]
    },
    {
     "cell_type": "markdown",
     "metadata": {},
     "source": [
      "Two options, take your pick:\n",
      "\n",
      "1. Click on a code cell (has grey backgroun) then press Shift-Enter (at the same time). That will add the controls (buttons, etc) you use to do the reduction.\n",
      "2. Choose ``Cell -> Run All`` to run all of the code, then use the controls (buttons, etc) to do your reduction."
     ]
    },
    {
     "cell_type": "code",
     "collapsed": false,
     "input": [
      "from __future__ import division\n",
      "\n",
      "%matplotlib inline\n",
      "\n",
      "from IPython.html import widgets\n",
      "from IPython.display import display\n",
      "\n",
      "import numpy as np\n",
      "\n",
      "import reducer.gui\n",
      "# import ccdproc\n",
      "# import photutils\n",
      "# from astropy import units as u\n",
      "import msumastro"
     ],
     "language": "python",
     "metadata": {},
     "outputs": []
    },
    {
     "cell_type": "markdown",
     "metadata": {},
     "source": [
      "# Enter name of directory that contains your data:"
     ]
    },
    {
     "cell_type": "code",
     "collapsed": false,
     "input": [
      "data_dir = 'put/your/data/directory/here'  # note -- this is ignored for now!"
     ],
     "language": "python",
     "metadata": {},
     "outputs": []
    },
    {
     "cell_type": "markdown",
     "metadata": {},
     "source": [
      "Type any of your comments/notes here, then..."
     ]
    },
    {
     "cell_type": "heading",
     "level": 4,
     "metadata": {},
     "source": [
      "Cell below would normally contain the code to generate a summary of the image metadata. For now it points to a table summarizing the metadata of an example directory."
     ]
    },
    {
     "cell_type": "code",
     "collapsed": false,
     "input": [
      "import os\n",
      "image_meta = os.path.join(reducer.notebook_dir.get_data_path(), 'image_metadata.csv')\n",
      "images = msumastro.ImageFileCollection(info_file=image_meta)\n",
      "tt = msumastro.TableTree(images.summary_info, ['imagetyp', 'exposure'], 'file')\n"
     ],
     "language": "python",
     "metadata": {},
     "outputs": []
    },
    {
     "cell_type": "code",
     "collapsed": false,
     "input": [
      "load_container = reducer.gui.LoadContainer()\n",
      "display(load_container.load_container)"
     ],
     "language": "python",
     "metadata": {},
     "outputs": []
    },
    {
     "cell_type": "markdown",
     "metadata": {},
     "source": [
      "# Image summary"
     ]
    },
    {
     "cell_type": "code",
     "collapsed": true,
     "input": [
      "image_summary = reducer.gui.ImageSummary1()\n",
      "display(image_summary.image_summary)\n",
      "image_summary.set_tab_names()"
     ],
     "language": "python",
     "metadata": {},
     "outputs": []
    },
    {
     "cell_type": "markdown",
     "metadata": {},
     "source": [
      "## Now display a summay of the data -- top level is maybe the image types, with ability to drill down. Display number of files at each level.\n",
      "\n",
      "### Maybe a drop-down style filter instead?"
     ]
    },
    {
     "cell_type": "markdown",
     "metadata": {},
     "source": [
      "## Make some master frames, if needed. "
     ]
    },
    {
     "cell_type": "code",
     "collapsed": false,
     "input": [
      "mastery = reducer.gui.MakeMasterButtons()\n",
      "mastery.display()\n",
      "#mastery.layout()"
     ],
     "language": "python",
     "metadata": {},
     "outputs": []
    },
    {
     "cell_type": "markdown",
     "metadata": {},
     "source": [
      "## Ask what should be reduced. Demonstrate at least some small amount of sense in offering to do reductions.\n",
      "\n",
      "Well, eventually, maybe. Not today."
     ]
    },
    {
     "cell_type": "markdown",
     "metadata": {},
     "source": [
      "## Big ol' button here to start reducing"
     ]
    },
    {
     "cell_type": "code",
     "collapsed": false,
     "input": [
      "reduce_region = reducer.gui.ReduceContainer()\n",
      "reduce_region.display()"
     ],
     "language": "python",
     "metadata": {},
     "outputs": []
    },
    {
     "cell_type": "markdown",
     "metadata": {},
     "source": [
      "## Maybe a display of some images here? Or just the option to? Or make a movie?"
     ]
    },
    {
     "cell_type": "code",
     "collapsed": false,
     "input": [
      "images = [np.random.random(size=(100, 100)) for i in range(10)]\n",
      "image_button = reducer.gui.ImageDisplayStuff(image_list=images)\n",
      "image_button.display()"
     ],
     "language": "python",
     "metadata": {},
     "outputs": []
    },
    {
     "cell_type": "markdown",
     "metadata": {},
     "source": [
      "## Display an image for picking sources, or the option to read from a file, or the option to auto-detect"
     ]
    },
    {
     "cell_type": "markdown",
     "metadata": {},
     "source": [
      "## Produce the photometry"
     ]
    },
    {
     "cell_type": "code",
     "collapsed": false,
     "input": [
      "foo = widgets.AccordionWidget(description='top')\n",
      "tabs1 = widgets.TabWidget(description='Just some crud')\n",
      "container1 = widgets.AccordionWidget(description='not top1')\n",
      "container2 = widgets.AccordionWidget(description='not top2')\n",
      "tabs1.children = [container1, container2]\n",
      "foo.children = [tabs1]\n",
      "subtabs = widgets.TabWidget(description='I am in deep')\n",
      "butts = [widgets.ButtonWidget(description='{0}'.format(i)) for i in range(3)]\n",
      "subtabs.children = butts\n",
      "container1.children = [subtabs]\n",
      "display(foo)\n",
      "tabs1.set_title(0, \"Moo\")\n",
      "subtabs.set_title(1, \"cow\")\n",
      "foo.set_css({'width': '100%'})\n",
      "container1.set_title(0, 'monkeys')"
     ],
     "language": "python",
     "metadata": {},
     "outputs": []
    },
    {
     "cell_type": "code",
     "collapsed": false,
     "input": [
      "top_accordian = widgets.AccordionWidget(description='top-level container')\n",
      "top_accordian.children = []\n",
      "id_string = lambda s: '/'.join([str(i) for i in s]) if s else '/'\n",
      "gui_ids = {}\n",
      "gui_objects = {}\n",
      "parent_id = top_accordian.model_id\n",
      "gui_ids[id_string('')] = top_accordian.model_id\n",
      "gui_objects[id_string('')] = top_accordian\n",
      "for parents, children, index in tt.walk():\n",
      "    if children and index:\n",
      "        raise RuntimeError(\"What the ???\")\n",
      "\n",
      "    parent_string = id_string(parents)\n",
      "    # Do I have a children? If so, add them as tabs\n",
      "    if children:\n",
      "        new_container = widgets.ContainerWidget()\n",
      "        new_tabs = widgets.TabWidget(description=parent_string)\n",
      "        tab_label = widgets.LatexWidget()\n",
      "        depth = len(parents)\n",
      "        tab_label.value = tt.tree_keys[depth]\n",
      "        new_container.children = [tab_label, new_tabs]\n",
      "        gui_objects[parent_string].children = [new_container]\n",
      "        gui_ids[parent_string] = new_tabs.model_id\n",
      "        gui_objects[parent_string] = new_tabs\n",
      "        child_objects = []\n",
      "        for child in children:\n",
      "            child_list = list(parents)\n",
      "            child_list.append(str(child))\n",
      "            child_string = id_string(child_list)\n",
      "            child_container = widgets.ContainerWidget(description=str(child))\n",
      "            gui_ids[child_string] = child_container.model_id\n",
      "            gui_objects[child_string] = child_container\n",
      "            child_objects.append(child_container)\n",
      "        new_tabs.children = child_objects\n",
      "\n",
      "    # Do I have only a list? Populate a select box with those...\n",
      "    if index:\n",
      "        new_text = widgets.SelectWidget(values=index)\n",
      "        gui_objects[parent_string].children = [new_text]\n",
      "        \n",
      "\n",
      "display(top_accordian)\n",
      "top_accordian.set_css({'width': '100%'})\n",
      "top_accordian.set_title(0, 'Show/Hide file list')\n",
      "for obj in gui_objects.itervalues():\n",
      "    if isinstance(obj, widgets.TabWidget):\n",
      "        for idx, child in enumerate(obj.children):\n",
      "            obj.set_title(idx, child.description)\n",
      "        obj.set_css({'width': '100%',})\n",
      "        obj.add_class('well')"
     ],
     "language": "python",
     "metadata": {},
     "outputs": []
    },
    {
     "cell_type": "code",
     "collapsed": false,
     "input": [
      "from collections import OrderedDict\n",
      "id_string = lambda s: '/'.join([str(i) for i in s])\n",
      "gui_objects = OrderedDict()\n",
      "def get_index_in_children(widget):\n",
      "    parent = widget.parent\n",
      "    for idx, wid in enumerate(parent.children):\n",
      "        if widget is wid:\n",
      "            return idx\n",
      "\n",
      "for parents, children, index in tt.walk():\n",
      "    if children and index:\n",
      "        raise RuntimeError(\"What the ???\")\n",
      "    parent_string = id_string(parents)\n",
      "    depth = len(parents)\n",
      "    try:\n",
      "        key = tt.tree_keys[depth]\n",
      "    except IndexError:\n",
      "        key = ''\n",
      "    if depth == 0:\n",
      "        top = widgets.AccordionWidget(description=key)\n",
      "        gui_objects[parent_string] = top\n",
      "\n",
      "    parent = gui_objects[parent_string]\n",
      "    # Do I have a children? If so, add them as tabs\n",
      "    if children:\n",
      "        child_objects = []\n",
      "        for child in children:\n",
      "            print \"On child {} of parent {}\".format(child, parent_string)\n",
      "            desc = \": \".join([key, str(child)])\n",
      "            child_container = widgets.AccordionWidget(description=desc)\n",
      "            child_container.parent = gui_objects[parent_string]\n",
      "            child_list = list(parents)\n",
      "            child_list.append(str(child))\n",
      "            child_string = id_string(child_list)\n",
      "            gui_objects[child_string] = child_container\n",
      "            child_objects.append(child_container)\n",
      "        parent.children = child_objects\n",
      "    # Do I have only a list? Populate a select box with those...\n",
      "    if index:\n",
      "        new_text = widgets.SelectWidget(values=index)\n",
      "        gui_objects[parent_string] = new_text\n",
      "        old_grandparent = parent.parent\n",
      "        old_desc = parent.description\n",
      "        parent_index = get_index_in_children(parent)\n",
      "        s_or_not = ['', 's']\n",
      "        n_files = len(index)\n",
      "        new_desc = old_desc + \" ({0} image{1})\".format(n_files, s_or_not[n_files > 1])\n",
      "        print \"Old desc: {}  New Desc: {}\".format(old_desc, new_desc)\n",
      "        #del parent\n",
      "        parent = widgets.ContainerWidget(description=new_desc)\n",
      "        parent.children = [new_text]\n",
      "        parent.parent = old_grandparent\n",
      "        replace_kid = list(old_grandparent.children)\n",
      "        replace_kid[parent_index] = parent\n",
      "        old_grandparent.children = replace_kid\n",
      "        \n",
      "print \"Setting up titles\"\n",
      "display(top)\n",
      "top.set_css({'width': '50%'})\n",
      "for name, obj in gui_objects.iteritems():\n",
      "    print \"NAme is: \",name\n",
      "    if isinstance(obj, widgets.AccordionWidget):\n",
      "        for idx, child in enumerate(obj.children):\n",
      "            print \"child_desc\", child.description\n",
      "            if not isinstance(child, widgets.SelectWidget):\n",
      "                print \"setting accordion children\"\n",
      "                obj.set_title(idx, child.description)\n",
      "        #obj.set_css({'width': '100%',})\n",
      "        #obj.add_class('well')"
     ],
     "language": "python",
     "metadata": {},
     "outputs": []
    },
    {
     "cell_type": "code",
     "collapsed": false,
     "input": [
      "im_a_tree = reducer.gui.ImageTreeWidget(tt)\n",
      "im_a_tree.display()"
     ],
     "language": "python",
     "metadata": {},
     "outputs": []
    },
    {
     "cell_type": "code",
     "collapsed": false,
     "input": [
      "im = widgets.ImageWidget()\n",
      "im"
     ],
     "language": "python",
     "metadata": {},
     "outputs": []
    },
    {
     "cell_type": "code",
     "collapsed": false,
     "input": [
      "#fil = open('ey-uma-sat4.png', 'rb')\n",
      "#im.value = fil.read()"
     ],
     "language": "python",
     "metadata": {},
     "outputs": []
    },
    {
     "cell_type": "code",
     "collapsed": false,
     "input": [
      "im.width = '63%'"
     ],
     "language": "python",
     "metadata": {},
     "outputs": []
    }
   ],
   "metadata": {}
  }
 ]
}